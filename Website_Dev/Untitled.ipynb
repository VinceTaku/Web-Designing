{
 "cells": [
  {
   "cell_type": "code",
   "execution_count": null,
   "id": "06d7af69",
   "metadata": {},
   "outputs": [],
   "source": [
    "pip install --upgrade notebook\n"
   ]
  },
  {
   "cell_type": "code",
   "execution_count": null,
   "id": "e9a423f1",
   "metadata": {},
   "outputs": [],
   "source": []
  }
 ],
 "metadata": {
  "kernelspec": {
   "display_name": "Python 3 (ipykernel)",
   "language": "python",
   "name": "python3"
  }
 },
 "nbformat": 4,
 "nbformat_minor": 5
}
